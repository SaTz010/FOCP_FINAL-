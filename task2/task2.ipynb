{
 "cells": [
  {
   "cell_type": "code",
   "execution_count": 1,
   "id": "a5152196",
   "metadata": {},
   "outputs": [
    {
     "name": "stdout",
     "output_type": "stream",
     "text": [
      "An unexpected error occurred: [Errno 22] Invalid argument: '--f=c:\\\\Users\\\\OMEN\\\\AppData\\\\Roaming\\\\jupyter\\\\runtime\\\\kernel-v2-17236ipyhc3NpqQMG.json'\n"
     ]
    }
   ],
   "source": [
    "import sys \n",
    "\n",
    "def main():\n",
    "    count_their_cat = 0\n",
    "    count_our_cat = 0\n",
    "    total_time_stayed = 0\n",
    "    average_visit_time = 0\n",
    "    longest_visit_time = 0\n",
    "    shortest_visit_time = float('inf')\n",
    "    #count_their_cat, count_our_cat, total_time_stayed, longest_visit_time, shortest_visit_time\n",
    "    try:\n",
    "        log_file = sys.argv[1]\n",
    "        with open(log_file, \"r\") as log_file:\n",
    "            data = log_file.readlines()\n",
    "            for line in data:\n",
    "                word = line.strip().split(',')\n",
    "                if word[0] == 'THEIRS':\n",
    "                    count_their_cat += 1\n",
    "                elif word[0] == 'OURS':\n",
    "                    count_our_cat += 1\n",
    "                    time_stayed = int(word[2]) - int(word[1])\n",
    "                    total_time_stayed += time_stayed\n",
    "\n",
    "                    if time_stayed > longest_visit_time:\n",
    "                        longest_visit_time = time_stayed\n",
    "                    if time_stayed < shortest_visit_time:\n",
    "                        shortest_visit_time = time_stayed\n",
    "                \n",
    "\n",
    "        print(f\"Cat Visits: {count_our_cat}\")\n",
    "        print(f\"Other Cats: {count_their_cat}\")\n",
    "        print(f\"Total Time in House: {total_time_stayed//60} Hours, {total_time_stayed%60} Minutes\")\n",
    "        print(f\"Average Visit Length: {total_time_stayed//count_our_cat} Minutes\")\n",
    "        print(f\"Longest Visit: {longest_visit_time} Minutes\")\n",
    "        print(f\"Shortest Visit: {shortest_visit_time} Minutes\")\n",
    "\n",
    "    except IndexError:\n",
    "        print(\"Missing command line argument\")\n",
    "    except FileNotFoundError:\n",
    "        print(f\"Cannot open '{log_file}'!\")\n",
    "    except Exception as e:\n",
    "        print(f\"An unexpected error occurred: {e}\")    \n",
    "\n",
    "\n",
    "\n",
    "if __name__ == '__main__':\n",
    "    main()\n"
   ]
  },
  {
   "cell_type": "code",
   "execution_count": null,
   "id": "1b4cc1e5",
   "metadata": {},
   "outputs": [],
   "source": []
  }
 ],
 "metadata": {
  "kernelspec": {
   "display_name": "Python 3 (ipykernel)",
   "language": "python",
   "name": "python3"
  },
  "language_info": {
   "codemirror_mode": {
    "name": "ipython",
    "version": 3
   },
   "file_extension": ".py",
   "mimetype": "text/x-python",
   "name": "python",
   "nbconvert_exporter": "python",
   "pygments_lexer": "ipython3",
   "version": "3.11.2"
  }
 },
 "nbformat": 4,
 "nbformat_minor": 5
}
